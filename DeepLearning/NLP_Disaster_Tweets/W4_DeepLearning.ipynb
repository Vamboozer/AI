{
 "cells": [
  {
   "cell_type": "markdown",
   "metadata": {},
   "source": [
    "# NLP Disaster Tweets RNN Model by Marshall Folkman"
   ]
  },
  {
   "cell_type": "markdown",
   "metadata": {},
   "source": [
    "## Problem Description\n",
    "\n",
    "The problem this Kaggle competition poses is the automatic identification and classification of real-time disaster-related tweets from a sea of everyday communications. With the proliferation of social media and the immediacy of information transmission it offers, agencies such as disaster relief organizations and news agencies aim to leverage this platform for effective disaster management. However, the challenge lies in distinguishing tweets that are truly about real-world disasters from those that use disaster-related language metaphorically. Participants are tasked with building a machine learning model that can discern between these two categories, providing a meaningful way to triage emergency-related communication on Twitter.\n",
    "\n",
    "The data provided for this task is a collection of 10,000 tweets, split into a training set and a test set, both encompassing the tweet text, a keyword from the tweet (which may be absent), and the tweet's location (which may also be absent). These features form the basis for the machine learning model. The training data additionally includes a target variable, which denotes whether the tweet is about a real disaster (represented by '1') or not (represented by '0'). The ultimate objective of the competition is to make accurate predictions on the test data based on the patterns learned from the training data, thereby determining if a given tweet refers to a genuine disaster or not."
   ]
  },
  {
   "cell_type": "markdown",
   "metadata": {},
   "source": [
    "## EDA"
   ]
  },
  {
   "cell_type": "code",
   "execution_count": 23,
   "metadata": {},
   "outputs": [
    {
     "name": "stdout",
     "output_type": "stream",
     "text": [
      "3.9.17 (main, Jul  5 2023, 20:47:11) [MSC v.1916 64 bit (AMD64)]\n"
     ]
    }
   ],
   "source": [
    "# Requires: pip install pandas matplotlib seaborn tensorflow scikit-learn nltk gensim\n",
    "import pandas as pd\n",
    "import os\n",
    "import matplotlib.pyplot as plt\n",
    "import seaborn as sns\n",
    "import numpy as np\n",
    "import sys\n",
    "print(sys.version)\n",
    "import tensorflow as tf\n",
    "from sklearn.model_selection import train_test_split\n",
    "from collections import Counter\n",
    "import string\n",
    "import re\n",
    "import nltk\n",
    "from nltk.corpus import stopwords\n",
    "#from nltk.stem.porter import PorterStemmer\n",
    "from tensorflow.keras.preprocessing.text import Tokenizer\n",
    "from tensorflow.keras.preprocessing.sequence import pad_sequences\n",
    "from tensorflow.keras.models import Sequential\n",
    "from tensorflow.keras.layers import Dense, LSTM, Embedding\n",
    "from tensorflow.keras.callbacks import ReduceLROnPlateau\n",
    "from keras.layers import Dropout\n",
    "from keras import regularizers\n",
    "from tensorflow.keras.callbacks import EarlyStopping\n",
    "from gensim.models import KeyedVectors\n",
    "from keras.layers import GRU"
   ]
  },
  {
   "cell_type": "code",
   "execution_count": 2,
   "metadata": {},
   "outputs": [],
   "source": [
    "# load the google word2vec model\n",
    "filename = 'D:\\OneDrive\\_CU-MSEE\\AI\\DTSA5511_DeepLearning\\Week4\\GoogleNews-vectors-negative300.bin'  # path to the Word2Vec file\n",
    "word2vec_model = KeyedVectors.load_word2vec_format(filename, binary=True)"
   ]
  },
  {
   "cell_type": "code",
   "execution_count": 3,
   "metadata": {},
   "outputs": [
    {
     "name": "stdout",
     "output_type": "stream",
     "text": [
      "   id keyword location                                               text  \\\n",
      "0   1     NaN      NaN  Our Deeds are the Reason of this #earthquake M...   \n",
      "1   4     NaN      NaN             Forest fire near La Ronge Sask. Canada   \n",
      "2   5     NaN      NaN  All residents asked to 'shelter in place' are ...   \n",
      "3   6     NaN      NaN  13,000 people receive #wildfires evacuation or...   \n",
      "4   7     NaN      NaN  Just got sent this photo from Ruby #Alaska as ...   \n",
      "\n",
      "   target  \n",
      "0       1  \n",
      "1       1  \n",
      "2       1  \n",
      "3       1  \n",
      "4       1  \n"
     ]
    }
   ],
   "source": [
    "train_data = pd.read_csv('D:/OneDrive/_CU-MSEE/AI/DTSA5511_DeepLearning/Week4/nlp-getting-started/train.csv')\n",
    "test_data = pd.read_csv('D:/OneDrive/_CU-MSEE/AI/DTSA5511_DeepLearning/Week4/nlp-getting-started/test.csv')\n",
    "print(train_data.head())"
   ]
  },
  {
   "cell_type": "code",
   "execution_count": 4,
   "metadata": {},
   "outputs": [
    {
     "name": "stdout",
     "output_type": "stream",
     "text": [
      "<class 'pandas.core.frame.DataFrame'>\n",
      "RangeIndex: 7613 entries, 0 to 7612\n",
      "Data columns (total 5 columns):\n",
      " #   Column    Non-Null Count  Dtype \n",
      "---  ------    --------------  ----- \n",
      " 0   id        7613 non-null   int64 \n",
      " 1   keyword   7552 non-null   object\n",
      " 2   location  5080 non-null   object\n",
      " 3   text      7613 non-null   object\n",
      " 4   target    7613 non-null   int64 \n",
      "dtypes: int64(2), object(3)\n",
      "memory usage: 297.5+ KB\n",
      "None\n"
     ]
    }
   ],
   "source": [
    "# Show a summary of the DataFrame\n",
    "print(train_data.info())"
   ]
  },
  {
   "cell_type": "code",
   "execution_count": 5,
   "metadata": {},
   "outputs": [
    {
     "name": "stdout",
     "output_type": "stream",
     "text": [
      "                 id      target\n",
      "count   7613.000000  7613.00000\n",
      "mean    5441.934848     0.42966\n",
      "std     3137.116090     0.49506\n",
      "min        1.000000     0.00000\n",
      "25%     2734.000000     0.00000\n",
      "50%     5408.000000     0.00000\n",
      "75%     8146.000000     1.00000\n",
      "max    10873.000000     1.00000\n"
     ]
    }
   ],
   "source": [
    "# Show statistics of the numerical columns\n",
    "print(train_data.describe())"
   ]
  },
  {
   "cell_type": "code",
   "execution_count": 6,
   "metadata": {},
   "outputs": [
    {
     "name": "stdout",
     "output_type": "stream",
     "text": [
      "id: 7613 unique values\n",
      "keyword: 221 unique values\n",
      "location: 3341 unique values\n",
      "text: 7503 unique values\n",
      "target: 2 unique values\n"
     ]
    }
   ],
   "source": [
    "# Count of unique values in each column\n",
    "for column in train_data.columns:\n",
    "    print(f\"{column}: {train_data[column].nunique()} unique values\")"
   ]
  },
  {
   "cell_type": "code",
   "execution_count": 7,
   "metadata": {},
   "outputs": [
    {
     "name": "stdout",
     "output_type": "stream",
     "text": [
      "id             0\n",
      "keyword       61\n",
      "location    2533\n",
      "text           0\n",
      "target         0\n",
      "dtype: int64\n"
     ]
    }
   ],
   "source": [
    "# Show any missing values\n",
    "print(train_data.isnull().sum())"
   ]
  },
  {
   "cell_type": "code",
   "execution_count": 8,
   "metadata": {},
   "outputs": [
    {
     "name": "stdout",
     "output_type": "stream",
     "text": [
      "target\n",
      "0    4342\n",
      "1    3271\n",
      "Name: count, dtype: int64\n"
     ]
    },
    {
     "data": {
      "image/png": "[encoded data removed]",
      "text/plain": [
       "<Figure size 800x600 with 1 Axes>"
      ]
     },
     "metadata": {},
     "output_type": "display_data"
    }
   ],
   "source": [
    "# Count the number of each target class\n",
    "target_counts = train_data['target'].value_counts()\n",
    "print(target_counts)\n",
    "\n",
    "# Visualize the class distribution\n",
    "plt.figure(figsize=(8, 6))\n",
    "sns.barplot(x=target_counts.index, y=target_counts.values, alpha=0.8)\n",
    "plt.title('Distribution of Target variable')\n",
    "plt.ylabel('Number of Occurrences', fontsize=12)\n",
    "plt.xlabel('Target', fontsize=12)\n",
    "plt.show()"
   ]
  },
  {
   "cell_type": "markdown",
   "metadata": {},
   "source": [
    "This 'target' imbalance is not extreme so it's less likely that bias will be an issue, but its off enough to keep it in mind."
   ]
  },
  {
   "cell_type": "markdown",
   "metadata": {},
   "source": [
    "At this juncture, it is pretty obvious that I will need to use a RNN architecture such as LSTM or GRU. Lets gather more data to help us decide which would be a better use model for this dataset. Then, we'll start preparing the data specifically for that model. Both LSTM and GRU are designed to handle long sequences, but if most of the sentences are short, then the simpler GRU might perform just as well and train faster."
   ]
  },
  {
   "cell_type": "code",
   "execution_count": 9,
   "metadata": {},
   "outputs": [
    {
     "data": {
      "image/png": "[encoded data removed]",
      "text/plain": [
       "<Figure size 1000x600 with 1 Axes>"
      ]
     },
     "metadata": {},
     "output_type": "display_data"
    }
   ],
   "source": [
    "# Analyze sentence length\n",
    "train_data['text_length'] = train_data['text'].apply(lambda x: len(x.split()))\n",
    "plt.figure(figsize=(10, 6))\n",
    "plt.hist(train_data['text_length'], bins=30)\n",
    "plt.title('Sentence Length Distribution')\n",
    "plt.xlabel('Number of Words')\n",
    "plt.ylabel('Number of Tweets')\n",
    "plt.show()"
   ]
  },
  {
   "cell_type": "markdown",
   "metadata": {},
   "source": [
    "The normal-like distribution of the sentence lengths suggests there isn't an extreme bias towards very short or very long sentences. This is important because we need to get an idea of how to set our maximum sequence length and understand the computational complexity of training this model. Considering the observed range of tweet lengths and the subjects studied, I've determined that starting with an LSTM model would be beneficial. LSTM, or Long Short-Term Memory networks, are a form of RNN that excel at learning from data that exhibit long-term dependencies, a characteristic common in text data. Furthermore, LSTMs are known to handle the vanishing gradient problem more efficiently than vanilla RNNs."
   ]
  },
  {
   "cell_type": "markdown",
   "metadata": {},
   "source": [
    "Now, lets get a better idea of how this data should be best cleaned in the next step."
   ]
  },
  {
   "cell_type": "code",
   "execution_count": 10,
   "metadata": {},
   "outputs": [
    {
     "name": "stdout",
     "output_type": "stream",
     "text": [
      "Most common words: [('the', 2575), ('a', 1845), ('to', 1805), ('in', 1757), ('of', 1722), ('and', 1302), ('I', 1197), ('for', 820), ('is', 814), ('on', 773)]\n",
      "Least common words: [('http://t.co/YmY4rSkQ3d', 1), ('http://t.co/STfMbbZFB5', 1), ('http://t.co/nF4IculOje', 1), ('flip', 1), ('http://t.co/rqKK15uhEY', 1), ('symptoms...', 1), ('developing', 1), ('Forney', 1), ('http://t.co/5ueCmcv2Pk', 1)]\n"
     ]
    }
   ],
   "source": [
    "# Count occurrences of each word\n",
    "word_counts = Counter()\n",
    "train_data['text'].str.split().apply(word_counts.update)\n",
    "\n",
    "# Most common words\n",
    "print(\"Most common words:\", word_counts.most_common(10))\n",
    "\n",
    "# Least common words\n",
    "print(\"Least common words:\", word_counts.most_common()[:-10:-1])"
   ]
  },
  {
   "cell_type": "code",
   "execution_count": 11,
   "metadata": {},
   "outputs": [
    {
     "name": "stdout",
     "output_type": "stream",
     "text": [
      "Number of unique words before cleaning: 31924\n"
     ]
    }
   ],
   "source": [
    "# Assuming 'clean_text' is your column with the cleaned tweet text\n",
    "# First, we split each tweet into words, creating a list of lists\n",
    "split_tweets = train_data['text'].str.split()\n",
    "\n",
    "# Then, we flatten the list of lists into a single list containing all words\n",
    "all_words = [word for tweet in split_tweets for word in tweet]\n",
    "\n",
    "# Now we use Counter to count unique words\n",
    "word_counts = Counter(all_words)\n",
    "\n",
    "# The total number of unique words is the length of this Counter object\n",
    "num_unique_words_before_cleaning = len(word_counts)\n",
    "\n",
    "print(f\"Number of unique words before cleaning: {num_unique_words_before_cleaning}\")"
   ]
  },
  {
   "cell_type": "markdown",
   "metadata": {},
   "source": [
    "From this we can see that we will need to remove our 'outliers' during our cleaning process. Specifically I will need to remove things like 'Stopwords', punctuation, numbers, and non-alphabetic characters as these are very often seen throughout the dataset and don't add meanful value to our model. Then, we will need to also remove the other extreme, words seen only once or a few times as this data doesn't correlate to anything else or very little to other data and therefore doesn't add value. Enough chat, lets get cleaning."
   ]
  },
  {
   "cell_type": "markdown",
   "metadata": {},
   "source": [
    "## Cleaning and Preprocessing"
   ]
  },
  {
   "cell_type": "markdown",
   "metadata": {},
   "source": [
    "### Cleaning"
   ]
  },
  {
   "cell_type": "code",
   "execution_count": 12,
   "metadata": {},
   "outputs": [
    {
     "name": "stdout",
     "output_type": "stream",
     "text": [
      "Most common words: [('like', 345), ('amp', 298), ('fire', 250), ('get', 229), ('new', 224), ('via', 220), ('people', 195), ('one', 193), ('news', 192), ('dont', 191)]\n",
      "Least common words: [('symptoms', 1), ('developing', 1), ('forney', 1), ('9km', 1), ('bathandnortheastsomerset', 1), ('overtaking', 1), ('fatherofthree', 1), ('tnwx', 1), ('explosivespacked', 1)]\n",
      "target: 2 unique values\n"
     ]
    }
   ],
   "source": [
    "def clean_text(text):\n",
    "    # Lowercase\n",
    "    text = text.lower()\n",
    "    \n",
    "    # Remove urls\n",
    "    text = re.sub(r\"http\\S+|www\\S+|https\\S+\", '', text, flags=re.MULTILINE)\n",
    "    \n",
    "    # Remove user @ references and '#' from text\n",
    "    text = re.sub(r'\\@\\w+|\\#','', text)\n",
    "    \n",
    "    # Remove punctuations\n",
    "    text = text.translate(str.maketrans('', '', string.punctuation))\n",
    "    \n",
    "    # Remove stopwords\n",
    "    stop_words = set(stopwords.words('english'))\n",
    "    text = \" \".join([word for word in str(text).split() if word not in stop_words])\n",
    "    \n",
    "    # Remove words less than 2 characters\n",
    "    text = \" \".join([word for word in text.split() if len(word) > 2])\n",
    "\n",
    "    return text\n",
    "\n",
    "# Apply the cleaning function to both test and training datasets\n",
    "train_data['text'] = train_data['text'].apply(lambda x: clean_text(x))\n",
    "test_data['text'] = test_data['text'].apply(lambda x: clean_text(x))\n",
    "\n",
    "# Count occurrences of each word\n",
    "word_counts = Counter()\n",
    "train_data['text'].str.split().apply(word_counts.update)\n",
    "\n",
    "# Most common words\n",
    "print(\"Most common words:\", word_counts.most_common(10))\n",
    "\n",
    "# Least common words\n",
    "print(\"Least common words:\", word_counts.most_common()[:-10:-1])\n",
    "\n",
    "# Print number of unique words in text field\n",
    "print(f\"{column}: {train_data[column].nunique()} unique values\")"
   ]
  },
  {
   "cell_type": "code",
   "execution_count": 13,
   "metadata": {},
   "outputs": [
    {
     "name": "stdout",
     "output_type": "stream",
     "text": [
      "Number of unique words after cleaning: 15342\n"
     ]
    }
   ],
   "source": [
    "# Assuming 'clean_text' is your column with the cleaned tweet text\n",
    "# First, we split each tweet into words, creating a list of lists\n",
    "split_tweets = train_data['text'].str.split()\n",
    "\n",
    "# Then, we flatten the list of lists into a single list containing all words\n",
    "all_words = [word for tweet in split_tweets for word in tweet]\n",
    "\n",
    "# Now we use Counter to count unique words\n",
    "word_counts = Counter(all_words)\n",
    "\n",
    "# The total number of unique words is the length of this Counter object\n",
    "num_unique_words_after_cleaning = len(word_counts)\n",
    "\n",
    "print(f\"Number of unique words after cleaning: {num_unique_words_after_cleaning}\")"
   ]
  },
  {
   "cell_type": "markdown",
   "metadata": {},
   "source": [
    "The training data seems to be well cleaned. Now let's move onto the next steps, which are tokenizing and padding the text data for a LSTM model."
   ]
  },
  {
   "cell_type": "markdown",
   "metadata": {},
   "source": [
    "### Tokenization"
   ]
  },
  {
   "cell_type": "code",
   "execution_count": 14,
   "metadata": {},
   "outputs": [],
   "source": [
    "# Define maximum number of words to consider as features\n",
    "max_features = num_unique_words_after_cleaning\n",
    "\n",
    "# Load the data\n",
    "tokenizer = Tokenizer(num_words=max_features)\n",
    "\n",
    "# Fit the tokenizer on the text\n",
    "tokenizer.fit_on_texts(list(train_data['text']))\n",
    "\n",
    "# Transform the text to sequences\n",
    "train_sequences = tokenizer.texts_to_sequences(train_data['text'])\n",
    "test_sequences = tokenizer.texts_to_sequences(test_data['text'])"
   ]
  },
  {
   "cell_type": "markdown",
   "metadata": {},
   "source": [
    "### Padding"
   ]
  },
  {
   "cell_type": "code",
   "execution_count": 27,
   "metadata": {},
   "outputs": [],
   "source": [
    "# Cut texts after this number of words \n",
    "# (among top max_features most common words)\n",
    "maxlen = 30\n",
    "\n",
    "# Pad the sequences\n",
    "X_train = pad_sequences(train_sequences, maxlen=maxlen)\n",
    "X_test = pad_sequences(test_sequences, maxlen=maxlen)\n",
    "\n",
    "# Define the labels\n",
    "y_train = train_data['target'].values"
   ]
  },
  {
   "cell_type": "markdown",
   "metadata": {},
   "source": [
    "## Training the LSTM Model"
   ]
  },
  {
   "cell_type": "markdown",
   "metadata": {},
   "source": [
    "### Initial attempt"
   ]
  },
  {
   "cell_type": "code",
   "execution_count": 16,
   "metadata": {},
   "outputs": [
    {
     "name": "stdout",
     "output_type": "stream",
     "text": [
      "Model: \"sequential\"\n",
      "_________________________________________________________________\n",
      " Layer (type)                Output Shape              Param #   \n",
      "=================================================================\n",
      " embedding (Embedding)       (None, 30, 128)           1963776   \n",
      "                                                                 \n",
      " lstm (LSTM)                 (None, 64)                49408     \n",
      "                                                                 \n",
      " dense (Dense)               (None, 1)                 65        \n",
      "                                                                 \n",
      "=================================================================\n",
      "Total params: 2013249 (7.68 MB)\n",
      "Trainable params: 2013249 (7.68 MB)\n",
      "Non-trainable params: 0 (0.00 Byte)\n",
      "_________________________________________________________________\n",
      "Epoch 1/5\n",
      "191/191 [==============================] - 15s 62ms/step - loss: 0.5411 - accuracy: 0.7292 - val_loss: 0.4674 - val_accuracy: 0.7840\n",
      "Epoch 2/5\n",
      "191/191 [==============================] - 10s 53ms/step - loss: 0.2888 - accuracy: 0.8872 - val_loss: 0.4853 - val_accuracy: 0.7899\n",
      "Epoch 3/5\n",
      "191/191 [==============================] - 10s 50ms/step - loss: 0.1696 - accuracy: 0.9381 - val_loss: 0.5917 - val_accuracy: 0.7354\n",
      "Epoch 4/5\n",
      "191/191 [==============================] - 9s 49ms/step - loss: 0.1132 - accuracy: 0.9621 - val_loss: 0.6277 - val_accuracy: 0.7669\n",
      "Epoch 5/5\n",
      "191/191 [==============================] - 9s 48ms/step - loss: 0.0903 - accuracy: 0.9691 - val_loss: 0.7007 - val_accuracy: 0.7439\n"
     ]
    }
   ],
   "source": [
    "# Define the model\n",
    "model = Sequential()\n",
    "model.add(Embedding(max_features, 128, input_length=maxlen))\n",
    "model.add(LSTM(64, dropout=0.2, recurrent_dropout=0.2))\n",
    "model.add(Dense(1, activation='sigmoid'))\n",
    "\n",
    "# Compile the model\n",
    "model.compile(loss='binary_crossentropy', \n",
    "              optimizer='adam', \n",
    "              metrics=['accuracy'])\n",
    "\n",
    "# Print the model summary\n",
    "model.summary()\n",
    "\n",
    "# Train the model\n",
    "history = model.fit(X_train, y_train, \n",
    "                    batch_size=32, \n",
    "                    epochs=5, \n",
    "                    validation_split=0.2)"
   ]
  },
  {
   "cell_type": "markdown",
   "metadata": {},
   "source": [
    "Looking at these results, the training accuracy is increasing after each epoch, but the validation accuracy is decreasing. This discrepancy suggests that the model might be starting to memorize the training data (overfitting) rather than learning to generalize from it. Also, the validation loss is increasing after each epoch, which is another sign of overfitting. While the model is becoming more confident in its predictions on the training data (lower loss), it's becoming less confident in its predictions on the validation data (higher loss)."
   ]
  },
  {
   "cell_type": "markdown",
   "metadata": {},
   "source": [
    "### Attempt 2 - Tune the learning rate"
   ]
  },
  {
   "cell_type": "markdown",
   "metadata": {},
   "source": [
    "I think the most intuitive hyperparameter to tune first is the learning rate. I will use a technique called \"Learning Rate Scheduling\" to adjust the learning rate while training. Specifically, I'll use a technique called \"ReduceLROnPlateau\". This technique reduces the learning rate once the model's performance stops improving."
   ]
  },
  {
   "cell_type": "code",
   "execution_count": 17,
   "metadata": {},
   "outputs": [
    {
     "name": "stdout",
     "output_type": "stream",
     "text": [
      "Epoch 1/5\n",
      "191/191 [==============================] - 13s 54ms/step - loss: 0.5458 - accuracy: 0.7207 - val_loss: 0.4569 - val_accuracy: 0.7899 - lr: 0.0010\n",
      "Epoch 2/5\n",
      "191/191 [==============================] - 9s 48ms/step - loss: 0.2929 - accuracy: 0.8826 - val_loss: 0.4731 - val_accuracy: 0.7800 - lr: 0.0010\n",
      "Epoch 3/5\n",
      "191/191 [==============================] - 9s 47ms/step - loss: 0.1707 - accuracy: 0.9396 - val_loss: 0.5508 - val_accuracy: 0.7708 - lr: 0.0010\n",
      "Epoch 4/5\n",
      "191/191 [==============================] - 11s 58ms/step - loss: 0.1156 - accuracy: 0.9604 - val_loss: 0.6246 - val_accuracy: 0.7479 - lr: 0.0010\n",
      "Epoch 5/5\n",
      "191/191 [==============================] - 10s 52ms/step - loss: 0.0876 - accuracy: 0.9696 - val_loss: 0.7071 - val_accuracy: 0.7446 - lr: 0.0010\n"
     ]
    }
   ],
   "source": [
    "# Define the model\n",
    "model = Sequential()\n",
    "model.add(Embedding(max_features, 128, input_length=maxlen))\n",
    "model.add(LSTM(64, dropout=0.2, recurrent_dropout=0.2))\n",
    "model.add(Dense(1, activation='sigmoid'))\n",
    "\n",
    "# Compile the model\n",
    "model.compile(loss='binary_crossentropy', \n",
    "              optimizer='adam', \n",
    "              metrics=['accuracy'])\n",
    "\n",
    "# Create the learning rate reduction strategy\n",
    "reduce_lr = ReduceLROnPlateau(monitor='val_loss', factor=0.2, patience=5, min_lr=0.001)\n",
    "\n",
    "# Train the model\n",
    "history = model.fit(X_train, y_train, \n",
    "                    batch_size=32, \n",
    "                    epochs=5, \n",
    "                    validation_split=0.2,\n",
    "                    callbacks=[reduce_lr])"
   ]
  },
  {
   "cell_type": "markdown",
   "metadata": {},
   "source": [
    "This doesn't do much to reduce overfitting. Lets get more aggressive."
   ]
  },
  {
   "cell_type": "markdown",
   "metadata": {},
   "source": [
    "### Attempt 3 - More dropout, add regularization, increase validation split"
   ]
  },
  {
   "cell_type": "markdown",
   "metadata": {},
   "source": [
    "This code introduces a larger amount of dropout (0.5 vs 0.2) and regularization to prevent overfitting. It also increases the validation split from 0.2 to 0.3, so that more data is used to evaluate the model during training, which might help to improve the model's robustness on unseen data."
   ]
  },
  {
   "cell_type": "code",
   "execution_count": 18,
   "metadata": {},
   "outputs": [
    {
     "name": "stdout",
     "output_type": "stream",
     "text": [
      "Epoch 1/5\n",
      "191/191 [==============================] - 16s 65ms/step - loss: 0.9873 - accuracy: 0.6138 - val_loss: 0.6160 - val_accuracy: 0.7282 - lr: 0.0010\n",
      "Epoch 2/5\n",
      "191/191 [==============================] - 13s 66ms/step - loss: 0.4666 - accuracy: 0.8172 - val_loss: 0.5011 - val_accuracy: 0.7800 - lr: 0.0010\n",
      "Epoch 3/5\n",
      "191/191 [==============================] - 12s 65ms/step - loss: 0.3583 - accuracy: 0.8703 - val_loss: 0.4978 - val_accuracy: 0.7859 - lr: 0.0010\n",
      "Epoch 4/5\n",
      "191/191 [==============================] - 12s 61ms/step - loss: 0.2922 - accuracy: 0.8969 - val_loss: 0.5077 - val_accuracy: 0.7708 - lr: 0.0010\n",
      "Epoch 5/5\n",
      "191/191 [==============================] - 10s 53ms/step - loss: 0.2459 - accuracy: 0.9187 - val_loss: 0.5396 - val_accuracy: 0.7656 - lr: 0.0010\n"
     ]
    }
   ],
   "source": [
    "# Define the model\n",
    "model = Sequential()\n",
    "\n",
    "# Layers:\n",
    "model.add(Embedding(max_features, 128, input_length=maxlen))    # Embedding layer\n",
    "model.add(Dropout(0.5))                                         # Dropout layer\n",
    "model.add(LSTM(64, dropout=0.5, \n",
    "               recurrent_dropout=0.5, \n",
    "               kernel_regularizer=regularizers.l2(0.01)))       # LSTM layer with dropout and recurrent dropout and L2 regularization\n",
    "model.add(Dropout(0.5))                                         # Dropout layer\n",
    "model.add(Dense(1, activation='sigmoid'))                       # Dense layer\n",
    "\n",
    "# Compile the model\n",
    "model.compile(loss='binary_crossentropy', \n",
    "              optimizer='adam', \n",
    "              metrics=['accuracy'])\n",
    "\n",
    "# Create the learning rate reduction strategy\n",
    "reduce_lr = ReduceLROnPlateau(monitor='val_loss', factor=0.2, patience=5, min_lr=0.001)\n",
    "\n",
    "# Train the model\n",
    "history = model.fit(X_train, y_train, \n",
    "                    batch_size=32, \n",
    "                    epochs=5, \n",
    "                    validation_split=0.2,\n",
    "                    callbacks=[reduce_lr])"
   ]
  },
  {
   "cell_type": "markdown",
   "metadata": {},
   "source": [
    "This helped a little, but not near enough to eliminate the overfitting. Notice that we are still seeing the training accuracy significantly better than the validation accuracy. Also, validation loss is still increasing after the second epoch, which is a sign that the model is becoming more confident in its incorrect predictions over time."
   ]
  },
  {
   "cell_type": "markdown",
   "metadata": {},
   "source": [
    "### Attempt 4 - Decrease Model Complexity and implement early stopping"
   ]
  },
  {
   "cell_type": "markdown",
   "metadata": {},
   "source": [
    "Lets try reducing the model complexity by decreasing the number of neurons in the LSTM layer and reduce the dimensionality of the Embedding layer. We will also implement early stopping to prevent overfitting even more when it notices that the validation loss stops decreasing."
   ]
  },
  {
   "cell_type": "code",
   "execution_count": 19,
   "metadata": {},
   "outputs": [
    {
     "name": "stdout",
     "output_type": "stream",
     "text": [
      "Epoch 1/20\n",
      "191/191 [==============================] - 12s 41ms/step - loss: 0.9022 - accuracy: 0.5834 - val_loss: 0.6807 - val_accuracy: 0.5653 - lr: 0.0010\n",
      "Epoch 2/20\n",
      "191/191 [==============================] - 7s 36ms/step - loss: 0.5350 - accuracy: 0.7798 - val_loss: 0.5208 - val_accuracy: 0.7768 - lr: 0.0010\n",
      "Epoch 3/20\n",
      "191/191 [==============================] - 7s 34ms/step - loss: 0.3854 - accuracy: 0.8598 - val_loss: 0.4822 - val_accuracy: 0.7899 - lr: 0.0010\n",
      "Epoch 4/20\n",
      "191/191 [==============================] - 7s 34ms/step - loss: 0.3249 - accuracy: 0.8857 - val_loss: 0.5054 - val_accuracy: 0.7781 - lr: 0.0010\n",
      "Epoch 5/20\n",
      "191/191 [==============================] - 7s 35ms/step - loss: 0.2802 - accuracy: 0.9074 - val_loss: 0.5223 - val_accuracy: 0.7669 - lr: 0.0010\n",
      "Epoch 6/20\n",
      "191/191 [==============================] - 7s 35ms/step - loss: 0.2396 - accuracy: 0.9209 - val_loss: 0.5120 - val_accuracy: 0.7689 - lr: 0.0010\n"
     ]
    }
   ],
   "source": [
    "# Define the model\n",
    "model = Sequential()\n",
    "\n",
    "# Layers:\n",
    "model.add(Embedding(max_features, 64, input_length=maxlen))    # Embedding layer with reduced dimensionality\n",
    "model.add(Dropout(0.5))                                        # Dropout layer\n",
    "model.add(LSTM(32, dropout=0.5,                                # LSTM layer with fewer neurons\n",
    "               recurrent_dropout=0.5, \n",
    "               kernel_regularizer=regularizers.l2(0.01)))       \n",
    "model.add(Dropout(0.5))                                        # Dropout layer\n",
    "model.add(Dense(1, activation='sigmoid'))                      # Dense layer\n",
    "\n",
    "# Compile the model\n",
    "model.compile(loss='binary_crossentropy', \n",
    "              optimizer='adam', \n",
    "              metrics=['accuracy'])\n",
    "\n",
    "# Create the learning rate reduction and early stopping strategies\n",
    "reduce_lr = ReduceLROnPlateau(monitor='val_loss', factor=0.2, patience=5, min_lr=0.001)\n",
    "early_stopping = EarlyStopping(monitor='val_loss', patience=3)\n",
    "\n",
    "# Train the model\n",
    "history = model.fit(X_train, y_train, \n",
    "                    batch_size=32, \n",
    "                    epochs=20,    # Increase epochs as EarlyStopping will stop training when necessary\n",
    "                    validation_split=0.2,\n",
    "                    callbacks=[reduce_lr, early_stopping])"
   ]
  },
  {
   "cell_type": "markdown",
   "metadata": {},
   "source": [
    "Better, but we're still way out of the park."
   ]
  },
  {
   "cell_type": "markdown",
   "metadata": {},
   "source": [
    "### Attempt 5 - Use pre-trained word embeddings (Word2Vec)"
   ]
  },
  {
   "cell_type": "markdown",
   "metadata": {},
   "source": [
    "Pre-trained embeddings like Google's Word2Vec may improve model performance by leveraging pre-existing knowledge about word relationships. This should help us a lot since we are working with a small training dataset for the complexity of the problem at hand."
   ]
  },
  {
   "cell_type": "code",
   "execution_count": 20,
   "metadata": {},
   "outputs": [
    {
     "name": "stdout",
     "output_type": "stream",
     "text": [
      "Epoch 1/20\n",
      "191/191 [==============================] - 10s 33ms/step - loss: 1.0353 - accuracy: 0.6883 - val_loss: 0.5689 - val_accuracy: 0.8017 - lr: 0.0010\n",
      "Epoch 2/20\n",
      "191/191 [==============================] - 7s 34ms/step - loss: 0.5807 - accuracy: 0.7599 - val_loss: 0.5120 - val_accuracy: 0.8050 - lr: 0.0010\n",
      "Epoch 3/20\n",
      "191/191 [==============================] - 6s 33ms/step - loss: 0.5561 - accuracy: 0.7647 - val_loss: 0.4922 - val_accuracy: 0.8096 - lr: 0.0010\n",
      "Epoch 4/20\n",
      "191/191 [==============================] - 6s 34ms/step - loss: 0.5471 - accuracy: 0.7631 - val_loss: 0.4798 - val_accuracy: 0.8116 - lr: 0.0010\n",
      "Epoch 5/20\n",
      "191/191 [==============================] - 6s 33ms/step - loss: 0.5508 - accuracy: 0.7594 - val_loss: 0.4791 - val_accuracy: 0.8063 - lr: 0.0010\n",
      "Epoch 6/20\n",
      "191/191 [==============================] - 7s 34ms/step - loss: 0.5391 - accuracy: 0.7647 - val_loss: 0.4812 - val_accuracy: 0.8056 - lr: 0.0010\n",
      "Epoch 7/20\n",
      "191/191 [==============================] - 6s 34ms/step - loss: 0.5458 - accuracy: 0.7575 - val_loss: 0.4802 - val_accuracy: 0.8188 - lr: 0.0010\n",
      "Epoch 8/20\n",
      "191/191 [==============================] - 7s 35ms/step - loss: 0.5464 - accuracy: 0.7619 - val_loss: 0.4807 - val_accuracy: 0.7991 - lr: 0.0010\n"
     ]
    }
   ],
   "source": [
    "# create a weight matrix for words in training docs\n",
    "embedding_matrix = np.zeros((max_features, 300))  # Word2Vec has 300 dimensions\n",
    "for word, i in tokenizer.word_index.items():\n",
    "    if i >= max_features:\n",
    "        continue\n",
    "    if word in word2vec_model:  # changed variable name here\n",
    "        embedding_matrix[i] = word2vec_model[word]  # and here\n",
    "\n",
    "# Define the model\n",
    "model = Sequential()  # This is your Sequential model\n",
    "\n",
    "# Layers:\n",
    "model.add(Embedding(max_features, \n",
    "                    300,  # dimensionality of the Word2Vec embeddings\n",
    "                    weights=[embedding_matrix], \n",
    "                    input_length=maxlen,\n",
    "                    trainable=False)) # set trainable=False to prevent the weights from being updated during training\n",
    "model.add(Dropout(0.5))                                        # Dropout layer\n",
    "model.add(LSTM(32, dropout=0.5,                                # LSTM layer with fewer neurons\n",
    "               recurrent_dropout=0.5, \n",
    "               kernel_regularizer=regularizers.l2(0.01)))       \n",
    "model.add(Dropout(0.5))                                        # Dropout layer\n",
    "model.add(Dense(1, activation='sigmoid'))                      # Dense layer\n",
    "\n",
    "# Compile the model\n",
    "model.compile(loss='binary_crossentropy', \n",
    "              optimizer='adam', \n",
    "              metrics=['accuracy'])\n",
    "\n",
    "# Create the learning rate reduction and early stopping strategies\n",
    "reduce_lr = ReduceLROnPlateau(monitor='val_loss', factor=0.2, patience=5, min_lr=0.001)\n",
    "early_stopping = EarlyStopping(monitor='val_loss', patience=3)\n",
    "\n",
    "# Train the model\n",
    "history = model.fit(X_train, y_train, \n",
    "                    batch_size=32, \n",
    "                    epochs=20,    # Increase epochs as EarlyStopping will stop training when necessary\n",
    "                    validation_split=0.2,\n",
    "                    callbacks=[reduce_lr, early_stopping])"
   ]
  },
  {
   "cell_type": "markdown",
   "metadata": {},
   "source": [
    "These results are better than before, showing that using pre-trained Word2Vec embeddings has improved my model's performance. However, there's still a small gap between training and validation accuracy, which indicates we still have overfitting."
   ]
  },
  {
   "cell_type": "markdown",
   "metadata": {},
   "source": [
    "### Attempt 6 - More aggressive settings tuning to eliminate overfitting"
   ]
  },
  {
   "cell_type": "markdown",
   "metadata": {},
   "source": [
    "Let's adjust the dropout rates, the learning rate, the batch size, and the number of neurons in the LSTM layer more aggressively."
   ]
  },
  {
   "cell_type": "code",
   "execution_count": 21,
   "metadata": {},
   "outputs": [
    {
     "name": "stdout",
     "output_type": "stream",
     "text": [
      "Epoch 1/20\n",
      "96/96 [==============================] - 11s 76ms/step - loss: 2.2770 - accuracy: 0.5972 - val_loss: 1.3973 - val_accuracy: 0.6993 - lr: 5.0000e-04\n",
      "Epoch 2/20\n",
      "96/96 [==============================] - 7s 68ms/step - loss: 1.0517 - accuracy: 0.7209 - val_loss: 0.7651 - val_accuracy: 0.7715 - lr: 5.0000e-04\n",
      "Epoch 3/20\n",
      "96/96 [==============================] - 7s 72ms/step - loss: 0.7229 - accuracy: 0.7407 - val_loss: 0.5969 - val_accuracy: 0.7945 - lr: 5.0000e-04\n",
      "Epoch 4/20\n",
      "96/96 [==============================] - 7s 71ms/step - loss: 0.6326 - accuracy: 0.7512 - val_loss: 0.5435 - val_accuracy: 0.8030 - lr: 5.0000e-04\n",
      "Epoch 5/20\n",
      "96/96 [==============================] - 7s 70ms/step - loss: 0.6105 - accuracy: 0.7450 - val_loss: 0.5236 - val_accuracy: 0.8102 - lr: 5.0000e-04\n",
      "Epoch 6/20\n",
      "96/96 [==============================] - 7s 71ms/step - loss: 0.5862 - accuracy: 0.7442 - val_loss: 0.5104 - val_accuracy: 0.8076 - lr: 5.0000e-04\n",
      "Epoch 7/20\n",
      "96/96 [==============================] - 7s 71ms/step - loss: 0.5691 - accuracy: 0.7493 - val_loss: 0.5074 - val_accuracy: 0.8070 - lr: 5.0000e-04\n",
      "Epoch 8/20\n",
      "96/96 [==============================] - 7s 71ms/step - loss: 0.5625 - accuracy: 0.7473 - val_loss: 0.4959 - val_accuracy: 0.8050 - lr: 5.0000e-04\n",
      "Epoch 9/20\n",
      "96/96 [==============================] - 7s 74ms/step - loss: 0.5554 - accuracy: 0.7522 - val_loss: 0.4888 - val_accuracy: 0.8070 - lr: 5.0000e-04\n",
      "Epoch 10/20\n",
      "96/96 [==============================] - 7s 74ms/step - loss: 0.5546 - accuracy: 0.7452 - val_loss: 0.4880 - val_accuracy: 0.8096 - lr: 5.0000e-04\n",
      "Epoch 11/20\n",
      "96/96 [==============================] - 7s 75ms/step - loss: 0.5541 - accuracy: 0.7491 - val_loss: 0.5023 - val_accuracy: 0.7932 - lr: 5.0000e-04\n",
      "Epoch 12/20\n",
      "96/96 [==============================] - 7s 71ms/step - loss: 0.5575 - accuracy: 0.7466 - val_loss: 0.4940 - val_accuracy: 0.8043 - lr: 5.0000e-04\n",
      "Epoch 13/20\n",
      "96/96 [==============================] - 7s 72ms/step - loss: 0.5526 - accuracy: 0.7445 - val_loss: 0.4859 - val_accuracy: 0.8076 - lr: 5.0000e-04\n",
      "Epoch 14/20\n",
      "96/96 [==============================] - 7s 74ms/step - loss: 0.5602 - accuracy: 0.7463 - val_loss: 0.4843 - val_accuracy: 0.8037 - lr: 5.0000e-04\n",
      "Epoch 15/20\n",
      "96/96 [==============================] - 7s 75ms/step - loss: 0.5547 - accuracy: 0.7452 - val_loss: 0.4859 - val_accuracy: 0.8011 - lr: 5.0000e-04\n",
      "Epoch 16/20\n",
      "96/96 [==============================] - 7s 75ms/step - loss: 0.5557 - accuracy: 0.7386 - val_loss: 0.4883 - val_accuracy: 0.8050 - lr: 5.0000e-04\n",
      "Epoch 17/20\n",
      "96/96 [==============================] - 7s 73ms/step - loss: 0.5503 - accuracy: 0.7460 - val_loss: 0.4889 - val_accuracy: 0.8017 - lr: 5.0000e-04\n"
     ]
    }
   ],
   "source": [
    "# create a weight matrix for words in training docs\n",
    "embedding_matrix = np.zeros((max_features, 300))  # Word2Vec has 300 dimensions\n",
    "for word, i in tokenizer.word_index.items():\n",
    "    if i >= max_features:\n",
    "        continue\n",
    "    if word in word2vec_model:  \n",
    "        embedding_matrix[i] = word2vec_model[word] \n",
    "\n",
    "# Define the model\n",
    "model = Sequential()\n",
    "\n",
    "# Layers:\n",
    "model.add(Embedding(max_features, \n",
    "                    300,  # dimensionality of the Word2Vec embeddings\n",
    "                    weights=[embedding_matrix], \n",
    "                    input_length=maxlen,\n",
    "                    trainable=False)) # set trainable=False to prevent the weights from being updated during training\n",
    "model.add(Dropout(0.6))  # Increased dropout rate\n",
    "model.add(LSTM(64, dropout=0.6,  # Increased LSTM neurons and dropout rate\n",
    "               recurrent_dropout=0.6, \n",
    "               kernel_regularizer=regularizers.l2(0.01)))       \n",
    "model.add(Dropout(0.6))  # Increased dropout rate\n",
    "model.add(Dense(1, activation='sigmoid'))                     \n",
    "\n",
    "# Compile the model\n",
    "from keras.optimizers import Adam\n",
    "opt = Adam(learning_rate=0.0005)  # Reduced learning rate\n",
    "\n",
    "model.compile(loss='binary_crossentropy', \n",
    "              optimizer=opt,  # Using the new learning rate\n",
    "              metrics=['accuracy'])\n",
    "\n",
    "# Create the learning rate reduction and early stopping strategies\n",
    "reduce_lr = ReduceLROnPlateau(monitor='val_loss', factor=0.2, patience=5, min_lr=0.001)\n",
    "early_stopping = EarlyStopping(monitor='val_loss', patience=3)\n",
    "\n",
    "# Train the model\n",
    "history = model.fit(X_train, y_train, \n",
    "                    batch_size=64,  # Increased batch size\n",
    "                    epochs=20,    # Increase epochs as EarlyStopping will stop training when necessary\n",
    "                    validation_split=0.2,\n",
    "                    callbacks=[reduce_lr, early_stopping])"
   ]
  },
  {
   "cell_type": "markdown",
   "metadata": {},
   "source": [
    "### Attempt 7 - Switch from LSTM to GRU layer"
   ]
  },
  {
   "cell_type": "code",
   "execution_count": 25,
   "metadata": {},
   "outputs": [
    {
     "name": "stdout",
     "output_type": "stream",
     "text": [
      "Epoch 1/20\n",
      "191/191 [==============================] - 11s 36ms/step - loss: 1.0629 - accuracy: 0.6603 - val_loss: 0.6039 - val_accuracy: 0.8096 - lr: 0.0010\n",
      "Epoch 2/20\n",
      "191/191 [==============================] - 5s 29ms/step - loss: 0.6172 - accuracy: 0.7481 - val_loss: 0.5458 - val_accuracy: 0.7768 - lr: 0.0010\n",
      "Epoch 3/20\n",
      "191/191 [==============================] - 5s 29ms/step - loss: 0.5717 - accuracy: 0.7522 - val_loss: 0.5056 - val_accuracy: 0.8017 - lr: 0.0010\n",
      "Epoch 4/20\n",
      "191/191 [==============================] - 6s 29ms/step - loss: 0.5577 - accuracy: 0.7581 - val_loss: 0.4963 - val_accuracy: 0.8083 - lr: 0.0010\n",
      "Epoch 5/20\n",
      "191/191 [==============================] - 5s 28ms/step - loss: 0.5517 - accuracy: 0.7621 - val_loss: 0.4893 - val_accuracy: 0.8116 - lr: 0.0010\n",
      "Epoch 6/20\n",
      "191/191 [==============================] - 5s 29ms/step - loss: 0.5524 - accuracy: 0.7542 - val_loss: 0.4869 - val_accuracy: 0.8070 - lr: 0.0010\n",
      "Epoch 7/20\n",
      "191/191 [==============================] - 6s 29ms/step - loss: 0.5467 - accuracy: 0.7570 - val_loss: 0.4787 - val_accuracy: 0.7991 - lr: 0.0010\n",
      "Epoch 8/20\n",
      "191/191 [==============================] - 6s 29ms/step - loss: 0.5477 - accuracy: 0.7591 - val_loss: 0.4919 - val_accuracy: 0.8017 - lr: 0.0010\n",
      "Epoch 9/20\n",
      "191/191 [==============================] - 6s 29ms/step - loss: 0.5464 - accuracy: 0.7581 - val_loss: 0.4962 - val_accuracy: 0.8017 - lr: 0.0010\n",
      "Epoch 10/20\n",
      "191/191 [==============================] - 6s 29ms/step - loss: 0.5385 - accuracy: 0.7637 - val_loss: 0.4815 - val_accuracy: 0.8089 - lr: 0.0010\n"
     ]
    }
   ],
   "source": [
    "# create a weight matrix for words in training docs\n",
    "embedding_matrix = np.zeros((max_features, 300))  # Word2Vec has 300 dimensions\n",
    "for word, i in tokenizer.word_index.items():\n",
    "    if i >= max_features:\n",
    "        continue\n",
    "    if word in word2vec_model:  # changed variable name here\n",
    "        embedding_matrix[i] = word2vec_model[word]  # and here\n",
    "\n",
    "# Define the model\n",
    "model = Sequential()  # This is your Sequential model\n",
    "\n",
    "# Layers:\n",
    "model.add(Embedding(max_features, \n",
    "                    300,  # dimensionality of the Word2Vec embeddings\n",
    "                    weights=[embedding_matrix], \n",
    "                    input_length=maxlen,\n",
    "                    trainable=False)) # set trainable=False to prevent the weights from being updated during training\n",
    "model.add(Dropout(0.5))                                        # Dropout layer\n",
    "model.add(GRU(32, dropout=0.5,                                 # GRU layer with 32 neurons\n",
    "              recurrent_dropout=0.5, \n",
    "              kernel_regularizer=regularizers.l2(0.01)))       # Regularization\n",
    "model.add(Dropout(0.5))                                        # Dropout layer\n",
    "model.add(Dense(1, activation='sigmoid'))                      # Dense layer\n",
    "\n",
    "# Compile the model\n",
    "model.compile(loss='binary_crossentropy', \n",
    "              optimizer='adam', \n",
    "              metrics=['accuracy'])\n",
    "\n",
    "# Create the learning rate reduction and early stopping strategies\n",
    "reduce_lr = ReduceLROnPlateau(monitor='val_loss', factor=0.2, patience=5, min_lr=0.001)\n",
    "early_stopping = EarlyStopping(monitor='val_loss', patience=3)\n",
    "\n",
    "# Train the model\n",
    "history = model.fit(X_train, y_train, \n",
    "                    batch_size=32, \n",
    "                    epochs=20,    # Increase epochs as EarlyStopping will stop training when necessary\n",
    "                    validation_split=0.2,\n",
    "                    callbacks=[reduce_lr, early_stopping])"
   ]
  },
  {
   "cell_type": "markdown",
   "metadata": {},
   "source": [
    "It seems the GRU model performed better than the LSTM model in terms of training speed and validation accuracy."
   ]
  },
  {
   "cell_type": "markdown",
   "metadata": {},
   "source": [
    "It seems we've picked up all the low hanging fruit. We know there is a lot more we could do to improve the model, but based on how slowing we're able to improve the model over recent iterations we will call this good enough and move on to testing against the test dataset."
   ]
  },
  {
   "cell_type": "markdown",
   "metadata": {},
   "source": [
    "## Create final submission to be graded by Kaggle"
   ]
  },
  {
   "cell_type": "code",
   "execution_count": 31,
   "metadata": {},
   "outputs": [
    {
     "name": "stdout",
     "output_type": "stream",
     "text": [
      "102/102 [==============================] - 2s 10ms/step\n"
     ]
    }
   ],
   "source": [
    "# Predicting with the model\n",
    "y_test_pred = model.predict(X_test)\n",
    "\n",
    "# Convert probabilities into binary outputs\n",
    "y_test_pred = (y_test_pred > 0.5).astype(int)\n",
    "\n",
    "# Create a submission DataFrame with 'id' and 'target'\n",
    "submission = pd.DataFrame({\n",
    "    'id': test_data['id'],\n",
    "    'target': y_test_pred.squeeze(),  # .squeeze() is used to get the correct dimension\n",
    "})\n",
    "\n",
    "# Write the DataFrame to a csv file\n",
    "submission.to_csv('submission2.csv', index=False)"
   ]
  },
  {
   "cell_type": "markdown",
   "metadata": {},
   "source": [
    "## Results"
   ]
  },
  {
   "cell_type": "markdown",
   "metadata": {},
   "source": [
    "![Leaderboard](Leaderboard.png)\n"
   ]
  },
  {
   "cell_type": "markdown",
   "metadata": {},
   "source": [
    "## Conclusion"
   ]
  },
  {
   "cell_type": "markdown",
   "metadata": {},
   "source": [
    "My model to classify text-based data using natural language processing techniques. We implemented various neural network architectures such as LSTM and GRU, experimented with different hyperparameters and used Word2Vec for word embeddings to enhance the model's performance.\n",
    "\n",
    "Despite some initial challenges, the final model achieved an accuracy of approximately 0.78823 on the Kaggle competition test set. This indicates that our model is capable of reasonably accurate predictions. While the accuracy achieved is satisfactory, there is potential for further improvements. For future work, we could experiment with other model architectures, advanced NLP techniques, or fine-tuning of Word2Vec embeddings to enhance the model's predictive performance. Moreover, we could also investigate the use of ensemble techniques, which often prove beneficial in boosting the performance of individual models."
   ]
  }
 ],
 "metadata": {
  "kernelspec": {
   "display_name": "deepW4",
   "language": "python",
   "name": "python3"
  },
  "language_info": {
   "codemirror_mode": {
    "name": "ipython",
    "version": 3
   },
   "file_extension": ".py",
   "mimetype": "text/x-python",
   "name": "python",
   "nbconvert_exporter": "python",
   "pygments_lexer": "ipython3",
   "version": "3.9.17"
  },
  "orig_nbformat": 4
 },
 "nbformat": 4,
 "nbformat_minor": 2
}
